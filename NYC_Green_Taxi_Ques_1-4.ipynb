{
 "cells": [
  {
   "cell_type": "markdown",
   "metadata": {},
   "source": [
    "# Importing necessary libraries"
   ]
  },
  {
   "cell_type": "code",
   "execution_count": 2,
   "metadata": {},
   "outputs": [],
   "source": [
    "import pandas as pd\n",
    "import numpy as np\n",
    "import csv\n",
    "import matplotlib.pyplot as plt\n",
    "import seaborn as sns\n",
    "\n",
    "import requests\n",
    "import io\n",
    "from bs4 import BeautifulSoup\n",
    "\n",
    "from scipy.stats import ttest_ind, f_oneway, lognorm, levy, skew, chisquare\n",
    "from tabulate import tabulate\n",
    "\n",
    "\n",
    "from geopy.geocoders import Nominatim\n",
    "from geopy.distance import geodesic"
   ]
  },
  {
   "cell_type": "markdown",
   "metadata": {},
   "source": [
    "# Question 1- Programmatically download and load into your favorite analytical tool the trip data for September 2015. Report how many rows and columns of data you have loaded."
   ]
  },
  {
   "cell_type": "code",
   "execution_count": 3,
   "metadata": {},
   "outputs": [],
   "source": [
    "link = 'https://s3.amazonaws.com/nyc-tlc/trip+data/green_tripdata_2015-09.csv'"
   ]
  },
  {
   "cell_type": "code",
   "execution_count": 4,
   "metadata": {},
   "outputs": [],
   "source": [
    "s = requests.get(link).content\n",
    "df = pd.read_csv(io.StringIO(s.decode('utf-8')))"
   ]
  },
  {
   "cell_type": "code",
   "execution_count": 5,
   "metadata": {},
   "outputs": [
    {
     "data": {
      "text/html": [
       "<div>\n",
       "<style scoped>\n",
       "    .dataframe tbody tr th:only-of-type {\n",
       "        vertical-align: middle;\n",
       "    }\n",
       "\n",
       "    .dataframe tbody tr th {\n",
       "        vertical-align: top;\n",
       "    }\n",
       "\n",
       "    .dataframe thead th {\n",
       "        text-align: right;\n",
       "    }\n",
       "</style>\n",
       "<table border=\"1\" class=\"dataframe\">\n",
       "  <thead>\n",
       "    <tr style=\"text-align: right;\">\n",
       "      <th></th>\n",
       "      <th>VendorID</th>\n",
       "      <th>lpep_pickup_datetime</th>\n",
       "      <th>Lpep_dropoff_datetime</th>\n",
       "      <th>Store_and_fwd_flag</th>\n",
       "      <th>RateCodeID</th>\n",
       "      <th>Pickup_longitude</th>\n",
       "      <th>Pickup_latitude</th>\n",
       "      <th>Dropoff_longitude</th>\n",
       "      <th>Dropoff_latitude</th>\n",
       "      <th>Passenger_count</th>\n",
       "      <th>...</th>\n",
       "      <th>Fare_amount</th>\n",
       "      <th>Extra</th>\n",
       "      <th>MTA_tax</th>\n",
       "      <th>Tip_amount</th>\n",
       "      <th>Tolls_amount</th>\n",
       "      <th>Ehail_fee</th>\n",
       "      <th>improvement_surcharge</th>\n",
       "      <th>Total_amount</th>\n",
       "      <th>Payment_type</th>\n",
       "      <th>Trip_type</th>\n",
       "    </tr>\n",
       "  </thead>\n",
       "  <tbody>\n",
       "    <tr>\n",
       "      <th>0</th>\n",
       "      <td>2</td>\n",
       "      <td>2015-09-01 00:02:34</td>\n",
       "      <td>2015-09-01 00:02:38</td>\n",
       "      <td>N</td>\n",
       "      <td>5</td>\n",
       "      <td>-73.979485</td>\n",
       "      <td>40.684956</td>\n",
       "      <td>-73.979431</td>\n",
       "      <td>40.685020</td>\n",
       "      <td>1</td>\n",
       "      <td>...</td>\n",
       "      <td>7.8</td>\n",
       "      <td>0.0</td>\n",
       "      <td>0.0</td>\n",
       "      <td>1.95</td>\n",
       "      <td>0.0</td>\n",
       "      <td>NaN</td>\n",
       "      <td>0.0</td>\n",
       "      <td>9.75</td>\n",
       "      <td>1</td>\n",
       "      <td>2.0</td>\n",
       "    </tr>\n",
       "    <tr>\n",
       "      <th>1</th>\n",
       "      <td>2</td>\n",
       "      <td>2015-09-01 00:04:20</td>\n",
       "      <td>2015-09-01 00:04:24</td>\n",
       "      <td>N</td>\n",
       "      <td>5</td>\n",
       "      <td>-74.010796</td>\n",
       "      <td>40.912216</td>\n",
       "      <td>-74.010780</td>\n",
       "      <td>40.912212</td>\n",
       "      <td>1</td>\n",
       "      <td>...</td>\n",
       "      <td>45.0</td>\n",
       "      <td>0.0</td>\n",
       "      <td>0.0</td>\n",
       "      <td>0.00</td>\n",
       "      <td>0.0</td>\n",
       "      <td>NaN</td>\n",
       "      <td>0.0</td>\n",
       "      <td>45.00</td>\n",
       "      <td>1</td>\n",
       "      <td>2.0</td>\n",
       "    </tr>\n",
       "    <tr>\n",
       "      <th>2</th>\n",
       "      <td>2</td>\n",
       "      <td>2015-09-01 00:01:50</td>\n",
       "      <td>2015-09-01 00:04:24</td>\n",
       "      <td>N</td>\n",
       "      <td>1</td>\n",
       "      <td>-73.921410</td>\n",
       "      <td>40.766708</td>\n",
       "      <td>-73.914413</td>\n",
       "      <td>40.764687</td>\n",
       "      <td>1</td>\n",
       "      <td>...</td>\n",
       "      <td>4.0</td>\n",
       "      <td>0.5</td>\n",
       "      <td>0.5</td>\n",
       "      <td>0.50</td>\n",
       "      <td>0.0</td>\n",
       "      <td>NaN</td>\n",
       "      <td>0.3</td>\n",
       "      <td>5.80</td>\n",
       "      <td>1</td>\n",
       "      <td>1.0</td>\n",
       "    </tr>\n",
       "    <tr>\n",
       "      <th>3</th>\n",
       "      <td>2</td>\n",
       "      <td>2015-09-01 00:02:36</td>\n",
       "      <td>2015-09-01 00:06:42</td>\n",
       "      <td>N</td>\n",
       "      <td>1</td>\n",
       "      <td>-73.921387</td>\n",
       "      <td>40.766678</td>\n",
       "      <td>-73.931427</td>\n",
       "      <td>40.771584</td>\n",
       "      <td>1</td>\n",
       "      <td>...</td>\n",
       "      <td>5.0</td>\n",
       "      <td>0.5</td>\n",
       "      <td>0.5</td>\n",
       "      <td>0.00</td>\n",
       "      <td>0.0</td>\n",
       "      <td>NaN</td>\n",
       "      <td>0.3</td>\n",
       "      <td>6.30</td>\n",
       "      <td>2</td>\n",
       "      <td>1.0</td>\n",
       "    </tr>\n",
       "    <tr>\n",
       "      <th>4</th>\n",
       "      <td>2</td>\n",
       "      <td>2015-09-01 00:00:14</td>\n",
       "      <td>2015-09-01 00:04:20</td>\n",
       "      <td>N</td>\n",
       "      <td>1</td>\n",
       "      <td>-73.955482</td>\n",
       "      <td>40.714046</td>\n",
       "      <td>-73.944412</td>\n",
       "      <td>40.714729</td>\n",
       "      <td>1</td>\n",
       "      <td>...</td>\n",
       "      <td>5.0</td>\n",
       "      <td>0.5</td>\n",
       "      <td>0.5</td>\n",
       "      <td>0.00</td>\n",
       "      <td>0.0</td>\n",
       "      <td>NaN</td>\n",
       "      <td>0.3</td>\n",
       "      <td>6.30</td>\n",
       "      <td>2</td>\n",
       "      <td>1.0</td>\n",
       "    </tr>\n",
       "  </tbody>\n",
       "</table>\n",
       "<p>5 rows × 21 columns</p>\n",
       "</div>"
      ],
      "text/plain": [
       "   VendorID lpep_pickup_datetime Lpep_dropoff_datetime Store_and_fwd_flag  \\\n",
       "0         2  2015-09-01 00:02:34   2015-09-01 00:02:38                  N   \n",
       "1         2  2015-09-01 00:04:20   2015-09-01 00:04:24                  N   \n",
       "2         2  2015-09-01 00:01:50   2015-09-01 00:04:24                  N   \n",
       "3         2  2015-09-01 00:02:36   2015-09-01 00:06:42                  N   \n",
       "4         2  2015-09-01 00:00:14   2015-09-01 00:04:20                  N   \n",
       "\n",
       "   RateCodeID  Pickup_longitude  Pickup_latitude  Dropoff_longitude  \\\n",
       "0           5        -73.979485        40.684956         -73.979431   \n",
       "1           5        -74.010796        40.912216         -74.010780   \n",
       "2           1        -73.921410        40.766708         -73.914413   \n",
       "3           1        -73.921387        40.766678         -73.931427   \n",
       "4           1        -73.955482        40.714046         -73.944412   \n",
       "\n",
       "   Dropoff_latitude  Passenger_count     ...      Fare_amount  Extra  MTA_tax  \\\n",
       "0         40.685020                1     ...              7.8    0.0      0.0   \n",
       "1         40.912212                1     ...             45.0    0.0      0.0   \n",
       "2         40.764687                1     ...              4.0    0.5      0.5   \n",
       "3         40.771584                1     ...              5.0    0.5      0.5   \n",
       "4         40.714729                1     ...              5.0    0.5      0.5   \n",
       "\n",
       "   Tip_amount  Tolls_amount  Ehail_fee  improvement_surcharge  Total_amount  \\\n",
       "0        1.95           0.0        NaN                    0.0          9.75   \n",
       "1        0.00           0.0        NaN                    0.0         45.00   \n",
       "2        0.50           0.0        NaN                    0.3          5.80   \n",
       "3        0.00           0.0        NaN                    0.3          6.30   \n",
       "4        0.00           0.0        NaN                    0.3          6.30   \n",
       "\n",
       "   Payment_type  Trip_type   \n",
       "0             1         2.0  \n",
       "1             1         2.0  \n",
       "2             1         1.0  \n",
       "3             2         1.0  \n",
       "4             2         1.0  \n",
       "\n",
       "[5 rows x 21 columns]"
      ]
     },
     "execution_count": 5,
     "metadata": {},
     "output_type": "execute_result"
    }
   ],
   "source": [
    "df.head()"
   ]
  },
  {
   "cell_type": "code",
   "execution_count": 6,
   "metadata": {},
   "outputs": [
    {
     "name": "stdout",
     "output_type": "stream",
     "text": [
      "Number of rows: 1494926\n",
      "Number of columns:  21\n"
     ]
    }
   ],
   "source": [
    "print (\"Number of rows:\", df.shape[0])\n",
    "print (\"Number of columns: \", df.shape[1])"
   ]
  },
  {
   "cell_type": "markdown",
   "metadata": {},
   "source": [
    "# Question 2: •\tPlot a histogram of the number of the trip distance (“Trip Distance”) and Report any structure you find and any hypotheses you have about that structure."
   ]
  },
  {
   "cell_type": "code",
   "execution_count": 7,
   "metadata": {},
   "outputs": [
    {
     "name": "stderr",
     "output_type": "stream",
     "text": [
      "/anaconda3/lib/python3.7/site-packages/scipy/stats/stats.py:1713: FutureWarning: Using a non-tuple sequence for multidimensional indexing is deprecated; use `arr[tuple(seq)]` instead of `arr[seq]`. In the future this will be interpreted as an array index, `arr[np.array(seq)]`, which will result either in an error or a different result.\n",
      "  return np.add.reduce(sorted[indexer] * weights, axis=axis) / sumval\n"
     ]
    },
    {
     "data": {
      "text/plain": [
       "Text(0, 0.5, 'Count')"
      ]
     },
     "execution_count": 7,
     "metadata": {},
     "output_type": "execute_result"
    },
    {
     "data": {
      "image/png": "[encoded data removed]",
      "text/plain": [
       "<Figure size 720x576 with 1 Axes>"
      ]
     },
     "metadata": {
      "needs_background": "light"
     },
     "output_type": "display_data"
    }
   ],
   "source": [
    "plt.figure(figsize=(10,8))\n",
    "sns.distplot(df.Trip_distance, kde = False)\n",
    "plt.title(\"Original Data\")\n",
    "plt.xlabel(\"Trip Distance (miles)\")\n",
    "plt.ylabel(\"Count\")"
   ]
  },
  {
   "cell_type": "markdown",
   "metadata": {},
   "source": [
    "The above histogram does not illustrate our data properly. Hence, we will plot the raw Trip distance on logarithmic scale as well as remove the outliers from Trip Distance and plot the data points for better visualization. \n",
    "Here, outliers are defined as data point located outside 3 standard deviations from the median."
   ]
  },
  {
   "cell_type": "code",
   "execution_count": 8,
   "metadata": {},
   "outputs": [
    {
     "data": {
      "image/png": "[encoded data removed]",
      "text/plain": [
       "<Figure size 1080x288 with 2 Axes>"
      ]
     },
     "metadata": {
      "needs_background": "light"
     },
     "output_type": "display_data"
    }
   ],
   "source": [
    "# define the figure with 2 subplots\n",
    "fig, ax = plt.subplots(1,2,figsize = (15,4)) \n",
    "\n",
    "# histogram of the number of trip distance\n",
    "df.Trip_distance.hist(bins=30, ax=ax[0])\n",
    "ax[0].set_xlabel('Trip Distance (miles)')\n",
    "ax[0].set_ylabel('Count')\n",
    "ax[0].set_yscale('log')\n",
    "ax[0].set_title('Histogram of Trip Distance with outliers included')\n",
    "\n",
    "#histogram of number of trip distance without outliers\n",
    "Trip_distance_median = df.Trip_distance.median()\n",
    "Trip_distance_sd = df.Trip_distance.std()\n",
    "df[~((df.Trip_distance-Trip_distance_median) > 3*Trip_distance_sd)].Trip_distance.hist(bins=30, ax=ax[1])\n",
    "ax[1].set_xlabel('Trip Distance (miles)')\n",
    "ax[1].set_ylabel('Count')\n",
    "ax[1].set_title('Histogram of Trip Distance without outliers')\n",
    "\n",
    "# apply a lognormal fit. Use the mean of trip distance as the scale parameter\n",
    "scatter,loc,mean = lognorm.fit(df.Trip_distance.values,\n",
    "                               scale=df.Trip_distance.mean(),\n",
    "                               loc=0)\n",
    "pdf_fitted = lognorm.pdf(np.arange(0,12,.1),scatter,loc,mean)\n",
    "ax[1].plot(np.arange(0,12,.1),600000*pdf_fitted,'r') \n",
    "ax[1].legend(['data','lognormal fit'])\n",
    "\n",
    "\n",
    "plt.show()"
   ]
  },
  {
   "cell_type": "markdown",
   "metadata": {},
   "source": [
    "# The NYC Green Taxi was commissioned to pick up street hail passengers in areas not commonly served by yellow medallion cabs. The goal of the Green Taxi program is to improve access to street-hail transportation throughout the five boroughs in areas of New York City historically underserved by the yellow taxi industry. Since it is targeted to street hail passengers, we can hypothesize that the majority of the trips will be short distance.  The above histogram informs that the distribution of Trip distance for NYC Green taxi data is not normally distributed and skewed towards right, i.e. 88% of our data are short distance trips (within 6 miles).\n"
   ]
  },
  {
   "cell_type": "markdown",
   "metadata": {},
   "source": [
    "# Question 3.a: Mean and Median Trip Distance group by hour of the day"
   ]
  },
  {
   "cell_type": "code",
   "execution_count": 9,
   "metadata": {},
   "outputs": [
    {
     "name": "stdout",
     "output_type": "stream",
     "text": [
      "Mean and Median of Trip distance grouped by pickup hour of the day\n",
      "\n",
      "                     mean  median\n",
      "Pickup_Hour_Day                  \n",
      "0                3.115276    2.20\n",
      "1                3.017347    2.12\n",
      "2                3.046176    2.14\n",
      "3                3.212945    2.20\n",
      "4                3.526555    2.36\n",
      "5                4.133474    2.90\n",
      "6                4.055149    2.84\n",
      "7                3.284394    2.17\n",
      "8                3.048450    1.98\n",
      "9                2.999105    1.96\n",
      "10               2.944482    1.92\n",
      "11               2.912015    1.88\n",
      "12               2.903065    1.89\n",
      "13               2.878294    1.84\n",
      "14               2.864304    1.83\n",
      "15               2.857040    1.81\n",
      "16               2.779852    1.80\n",
      "17               2.679114    1.78\n",
      "18               2.653222    1.80\n",
      "19               2.715597    1.85\n",
      "20               2.777052    1.90\n",
      "21               2.999189    2.03\n",
      "22               3.185394    2.20\n",
      "23               3.191538    2.22\n"
     ]
    }
   ],
   "source": [
    "df['lpep_pickup_datetime'] = pd.to_datetime(df['lpep_pickup_datetime'])\n",
    "df['Pickup_Hour_Day'] = df['lpep_pickup_datetime'].dt.hour\n",
    "\n",
    "df_temp = df.groupby('Pickup_Hour_Day')['Trip_distance'].agg(['mean', 'median'])\n",
    "print ('Mean and Median of Trip distance grouped by pickup hour of the day\\n')\n",
    "print(df_temp)"
   ]
  },
  {
   "cell_type": "code",
   "execution_count": 10,
   "metadata": {},
   "outputs": [
    {
     "data": {
      "image/png": "[encoded data removed]",
      "text/plain": [
       "<Figure size 432x288 with 1 Axes>"
      ]
     },
     "metadata": {
      "needs_background": "light"
     },
     "output_type": "display_data"
    },
    {
     "data": {
      "image/png": "[encoded data removed]",
      "text/plain": [
       "<Figure size 432x288 with 1 Axes>"
      ]
     },
     "metadata": {
      "needs_background": "light"
     },
     "output_type": "display_data"
    }
   ],
   "source": [
    "df[['Trip_distance','Pickup_Hour_Day']].groupby('Pickup_Hour_Day').mean().plot.bar()\n",
    "plt.title('Mean trip distance across day')\n",
    "plt.show()\n",
    "df[['Trip_distance','Pickup_Hour_Day']].groupby('Pickup_Hour_Day').median().plot.bar()\n",
    "plt.title('Median trip distance across day')\n",
    "plt.show()"
   ]
  },
  {
   "cell_type": "code",
   "execution_count": 11,
   "metadata": {},
   "outputs": [
    {
     "data": {
      "image/png": "[encoded data removed]",
      "text/plain": [
       "<Figure size 432x288 with 1 Axes>"
      ]
     },
     "metadata": {
      "needs_background": "light"
     },
     "output_type": "display_data"
    }
   ],
   "source": [
    "df_temp.plot()\n",
    "plt.title(\"Distribution of Trip distance grouped by pickup hour of the day\")\n",
    "plt.xlabel(\"Hour of the Day\")\n",
    "plt.ylabel(\"Trip Distance (miles)\")\n",
    "plt.show()"
   ]
  },
  {
   "cell_type": "markdown",
   "metadata": {},
   "source": [
    "# Question 3.b: We’d like to get a rough sense of identifying trips that originate or terminate at one of the NYC area airports. Can you provide a count of how many transactions fit this criterion, the average fare, and any other interesting characteristics of these trips?"
   ]
  },
  {
   "cell_type": "markdown",
   "metadata": {},
   "source": [
    "# The data dictionary indicates that RateCodeID column indicates the area of final rate. I will be using this column for airport area. 2 = JFK and 3 = Newark"
   ]
  },
  {
   "cell_type": "code",
   "execution_count": 12,
   "metadata": {},
   "outputs": [
    {
     "name": "stdout",
     "output_type": "stream",
     "text": [
      "The number of trips that originate or terminate at one of the NYC area airports is 5552\n",
      "The average fare of trips originating or terminating in NYC airports area is 48.976945244956774\n",
      "The average total amounts charged for trips originating or terminating in NYC airports area is 57.20842038904719\n"
     ]
    }
   ],
   "source": [
    "airports_area_df = df[(df.RateCodeID==2) | (df.RateCodeID==3)]\n",
    "print('The number of trips that originate or terminate at one of the NYC area airports is', len(airports_area_df))\n",
    "print('The average fare of trips originating or terminating in NYC airports area is', airports_area_df['Fare_amount'].mean())\n",
    "print('The average total amounts charged for trips originating or terminating in NYC airports area is', airports_area_df['Total_amount'].mean())"
   ]
  },
  {
   "cell_type": "markdown",
   "metadata": {},
   "source": [
    "# This was a very brute force approach. We can take a more sophisticated one to find out trips originating or terminating in the NYC airports area.  In the below section, we are making use of the pickup and dropoff longitude and latitude information. We are making an assumption that any latitude and longitude within the 5 miles radius of any of the three NYC airports (JFK, LaGuardia and Newark) are marked as  airport area. We will use python math library to calculate the distance between two given longitude and latitude. "
   ]
  },
  {
   "cell_type": "code",
   "execution_count": 13,
   "metadata": {},
   "outputs": [],
   "source": [
    "#Extracting the latitude and longitude information for each NYC airports\n",
    "geolocator = Nominatim(user_agent=\"https://www.mayankajha.com/\")\n",
    "\n",
    "location = geolocator.geocode(\"John F. Kennedy International Airport NYC\")\n",
    "JFK_lat = location.latitude\n",
    "JFK_lon = location.longitude\n",
    "\n",
    "location = geolocator.geocode(\"LaGuardia Airport\")\n",
    "LGA_lat = location.latitude\n",
    "LGA_lon = location.longitude\n",
    "\n",
    "location = geolocator.geocode(\"Newark International Airport\")\n",
    "EWR_lat = location.latitude\n",
    "EWR_lon = location.longitude"
   ]
  },
  {
   "cell_type": "code",
   "execution_count": 14,
   "metadata": {},
   "outputs": [],
   "source": [
    "#Defining a function which calculates the distance between two longitude and latitude points in miles\n",
    "from math import sin, cos, sqrt, atan2, radians\n",
    "def distance(origin, destination):\n",
    "\n",
    "    lat1, lon1 = origin\n",
    "    lat2, lon2 = destination\n",
    "    radius = 6371  # km\n",
    "\n",
    "    \n",
    "    dlat = math.radians(lat2 - lat1)\n",
    "    dlon = math.radians(lon2 - lon1)\n",
    "    a = (math.sin(dlat / 2) * math.sin(dlat / 2) +\n",
    "         math.cos(math.radians(lat1)) * math.cos(math.radians(lat2)) *\n",
    "         math.sin(dlon / 2) * math.sin(dlon / 2))\n",
    "    c = 2 * math.atan2(math.sqrt(a), math.sqrt(1 - a))\n",
    "    d = radius * c\n",
    "\n",
    "    return d * 0.621371192"
   ]
  },
  {
   "cell_type": "code",
   "execution_count": 15,
   "metadata": {},
   "outputs": [],
   "source": [
    "#Defining a function which calculates the distance between the NYC airports longitude and latitude and pickup and dropoff latitude and longitude data points \n",
    "def test_airport(row):\n",
    "    pickup_distance_JFK = distance((row['Pickup_latitude'],row['Pickup_longitude']), (JFK_lat, JFK_lon))\n",
    "    dropoff_distance_JFK = distance((row['Dropoff_latitude'],row['Dropoff_longitude']), (JFK_lat, JFK_lon))\n",
    "    pickup_distance_LGA = distance((row['Pickup_latitude'],row['Pickup_longitude']), (LGA_lat, LGA_lon))\n",
    "    dropoff_distance_LGA = distance((row['Dropoff_latitude'],row['Dropoff_longitude']), (LGA_lat, LGA_lon))\n",
    "    pickup_distance_EWR = distance((row['Pickup_latitude'],row['Pickup_longitude']), (EWR_lat, EWR_lon))\n",
    "    dropoff_distance_EWR = distance((row['Dropoff_latitude'],row['Dropoff_longitude']), (EWR_lat, EWR_lon))\n",
    "    temp = [pickup_distance_JFK, dropoff_distance_JFK, pickup_distance_LGA, dropoff_distance_LGA, \n",
    "           pickup_distance_EWR, dropoff_distance_EWR]\n",
    "    return any(i <= 1 for i in temp)"
   ]
  },
  {
   "cell_type": "code",
   "execution_count": 16,
   "metadata": {},
   "outputs": [
    {
     "name": "stderr",
     "output_type": "stream",
     "text": [
      "100%|██████████| 1494926/1494926 [05:31<00:00, 4509.95it/s]\n"
     ]
    }
   ],
   "source": [
    "from tqdm import tqdm\n",
    "import math\n",
    "tqdm.pandas()\n",
    "df['Near_Airport'] = df.progress_apply(test_airport, axis=1)"
   ]
  },
  {
   "cell_type": "code",
   "execution_count": 17,
   "metadata": {},
   "outputs": [
    {
     "data": {
      "text/plain": [
       "False    1450977\n",
       "True       43949\n",
       "Name: Near_Airport, dtype: int64"
      ]
     },
     "execution_count": 17,
     "metadata": {},
     "output_type": "execute_result"
    }
   ],
   "source": [
    "df['Near_Airport'].value_counts()"
   ]
  },
  {
   "cell_type": "code",
   "execution_count": 18,
   "metadata": {},
   "outputs": [
    {
     "data": {
      "image/png": "[encoded data removed]",
      "text/plain": [
       "<Figure size 432x288 with 1 Axes>"
      ]
     },
     "metadata": {
      "needs_background": "light"
     },
     "output_type": "display_data"
    }
   ],
   "source": [
    "df['Near_Airport'].value_counts().plot(kind = \"bar\")\n",
    "plt.title(\"Plot of trips origintaing or terminating at NYC airport area\")\n",
    "plt.xlabel(\"Airport Area\")\n",
    "plt.ylabel(\"Count\")\n",
    "plt.show()"
   ]
  },
  {
   "cell_type": "code",
   "execution_count": 19,
   "metadata": {},
   "outputs": [
    {
     "data": {
      "text/html": [
       "<div>\n",
       "<style scoped>\n",
       "    .dataframe tbody tr th:only-of-type {\n",
       "        vertical-align: middle;\n",
       "    }\n",
       "\n",
       "    .dataframe tbody tr th {\n",
       "        vertical-align: top;\n",
       "    }\n",
       "\n",
       "    .dataframe thead tr th {\n",
       "        text-align: left;\n",
       "    }\n",
       "\n",
       "    .dataframe thead tr:last-of-type th {\n",
       "        text-align: right;\n",
       "    }\n",
       "</style>\n",
       "<table border=\"1\" class=\"dataframe\">\n",
       "  <thead>\n",
       "    <tr>\n",
       "      <th></th>\n",
       "      <th colspan=\"5\" halign=\"left\">Fare_amount</th>\n",
       "      <th colspan=\"5\" halign=\"left\">Total_amount</th>\n",
       "    </tr>\n",
       "    <tr>\n",
       "      <th></th>\n",
       "      <th>mean</th>\n",
       "      <th>median</th>\n",
       "      <th>min</th>\n",
       "      <th>max</th>\n",
       "      <th>std</th>\n",
       "      <th>mean</th>\n",
       "      <th>median</th>\n",
       "      <th>min</th>\n",
       "      <th>max</th>\n",
       "      <th>std</th>\n",
       "    </tr>\n",
       "    <tr>\n",
       "      <th>Near_Airport</th>\n",
       "      <th></th>\n",
       "      <th></th>\n",
       "      <th></th>\n",
       "      <th></th>\n",
       "      <th></th>\n",
       "      <th></th>\n",
       "      <th></th>\n",
       "      <th></th>\n",
       "      <th></th>\n",
       "      <th></th>\n",
       "    </tr>\n",
       "  </thead>\n",
       "  <tbody>\n",
       "    <tr>\n",
       "      <th>False</th>\n",
       "      <td>12.128541</td>\n",
       "      <td>9.5</td>\n",
       "      <td>-475.0</td>\n",
       "      <td>580.5</td>\n",
       "      <td>9.495778</td>\n",
       "      <td>14.525869</td>\n",
       "      <td>11.3</td>\n",
       "      <td>-475.0</td>\n",
       "      <td>581.3</td>\n",
       "      <td>10.767754</td>\n",
       "    </tr>\n",
       "    <tr>\n",
       "      <th>True</th>\n",
       "      <td>26.233087</td>\n",
       "      <td>22.5</td>\n",
       "      <td>-45.0</td>\n",
       "      <td>450.0</td>\n",
       "      <td>16.970860</td>\n",
       "      <td>31.746895</td>\n",
       "      <td>28.5</td>\n",
       "      <td>-45.0</td>\n",
       "      <td>450.0</td>\n",
       "      <td>20.601498</td>\n",
       "    </tr>\n",
       "  </tbody>\n",
       "</table>\n",
       "</div>"
      ],
      "text/plain": [
       "             Fare_amount                                 Total_amount         \\\n",
       "                    mean median    min    max        std         mean median   \n",
       "Near_Airport                                                                   \n",
       "False          12.128541    9.5 -475.0  580.5   9.495778    14.525869   11.3   \n",
       "True           26.233087   22.5  -45.0  450.0  16.970860    31.746895   28.5   \n",
       "\n",
       "                                       \n",
       "                min    max        std  \n",
       "Near_Airport                           \n",
       "False        -475.0  581.3  10.767754  \n",
       "True          -45.0  450.0  20.601498  "
      ]
     },
     "execution_count": 19,
     "metadata": {},
     "output_type": "execute_result"
    }
   ],
   "source": [
    "df.groupby('Near_Airport')[[\"Fare_amount\", \"Total_amount\"]].agg([\"mean\", \"median\", \"min\", \"max\", np.std])"
   ]
  },
  {
   "cell_type": "markdown",
   "metadata": {},
   "source": [
    "# Ques 4: •\tBuild a derived variable for tip as a percentage of the total fare. Build a predictive model for tip as a percentage of the total fare. Use as much of the data as you like (or all of it). Provide an estimate of performance using an appropriate sample and show your work."
   ]
  },
  {
   "cell_type": "markdown",
   "metadata": {},
   "source": [
    "Before we build our derived variable and build our predictive model for tip as the percentage of total fare, we will explore the columns of interest. We will be focussing on columns - Trip distance, Tip amount, Payment Type, Total amount, Pickup hour, pickup week, drop-off hour and drop-off week¶"
   ]
  },
  {
   "cell_type": "markdown",
   "metadata": {},
   "source": [
    "The steps are: Data Cleaning - replacing null values, na values and invalid data with median for continuous variable and most frequent values for categorical variable, \n",
    "Treating outliers for continuous variable by replacing them with median.\n",
    "Feature Engineering - Creating four new column using pickup and drop-off datetime: pickup hour, drop-off hour, pickup week, drop-off week."
   ]
  },
  {
   "cell_type": "code",
   "execution_count": 20,
   "metadata": {},
   "outputs": [],
   "source": [
    "#Feature Engineering\n",
    "\n",
    "df['Lpep_dropoff_datetime'] = pd.to_datetime(df['Lpep_dropoff_datetime'])\n",
    "#df['lpep_pickup_datetime'] = pd.to_datetime(df['lpep_pickup_datetime'])\n",
    "\n",
    "#df['Pickup_Hour'] = df['lpep_pickup_datetime'].dt.hour\n",
    "df['Dropoff_Hour'] = df['Lpep_dropoff_datetime'].dt.hour\n",
    "\n",
    "df['Dropoff_Week'] = df['Lpep_dropoff_datetime'].dt.weekday\n",
    "df['Pickup_Week'] = df['lpep_pickup_datetime'].dt.weekday"
   ]
  },
  {
   "cell_type": "code",
   "execution_count": 21,
   "metadata": {},
   "outputs": [],
   "source": [
    "df_new = df[['Tip_amount', 'Trip_distance', 'Payment_type', 'Total_amount','Pickup_Hour_Day','Dropoff_Hour', 'Dropoff_Week', 'Pickup_Week']]"
   ]
  },
  {
   "cell_type": "code",
   "execution_count": 22,
   "metadata": {},
   "outputs": [
    {
     "data": {
      "text/plain": [
       "Tip_amount         0\n",
       "Trip_distance      0\n",
       "Payment_type       0\n",
       "Total_amount       0\n",
       "Pickup_Hour_Day    0\n",
       "Dropoff_Hour       0\n",
       "Dropoff_Week       0\n",
       "Pickup_Week        0\n",
       "dtype: int64"
      ]
     },
     "execution_count": 22,
     "metadata": {},
     "output_type": "execute_result"
    }
   ],
   "source": [
    "df_new.isnull().sum()"
   ]
  },
  {
   "cell_type": "code",
   "execution_count": 23,
   "metadata": {},
   "outputs": [
    {
     "data": {
      "text/plain": [
       "Tip_amount         0\n",
       "Trip_distance      0\n",
       "Payment_type       0\n",
       "Total_amount       0\n",
       "Pickup_Hour_Day    0\n",
       "Dropoff_Hour       0\n",
       "Dropoff_Week       0\n",
       "Pickup_Week        0\n",
       "dtype: int64"
      ]
     },
     "execution_count": 23,
     "metadata": {},
     "output_type": "execute_result"
    }
   ],
   "source": [
    "df_new.isna().sum()"
   ]
  },
  {
   "cell_type": "code",
   "execution_count": 24,
   "metadata": {},
   "outputs": [
    {
     "data": {
      "text/html": [
       "<div>\n",
       "<style scoped>\n",
       "    .dataframe tbody tr th:only-of-type {\n",
       "        vertical-align: middle;\n",
       "    }\n",
       "\n",
       "    .dataframe tbody tr th {\n",
       "        vertical-align: top;\n",
       "    }\n",
       "\n",
       "    .dataframe thead th {\n",
       "        text-align: right;\n",
       "    }\n",
       "</style>\n",
       "<table border=\"1\" class=\"dataframe\">\n",
       "  <thead>\n",
       "    <tr style=\"text-align: right;\">\n",
       "      <th></th>\n",
       "      <th>Tip_amount</th>\n",
       "      <th>Trip_distance</th>\n",
       "      <th>Payment_type</th>\n",
       "      <th>Total_amount</th>\n",
       "      <th>Pickup_Hour_Day</th>\n",
       "      <th>Dropoff_Hour</th>\n",
       "      <th>Dropoff_Week</th>\n",
       "      <th>Pickup_Week</th>\n",
       "    </tr>\n",
       "  </thead>\n",
       "  <tbody>\n",
       "    <tr>\n",
       "      <th>count</th>\n",
       "      <td>1.494926e+06</td>\n",
       "      <td>1.494926e+06</td>\n",
       "      <td>1.494926e+06</td>\n",
       "      <td>1.494926e+06</td>\n",
       "      <td>1.494926e+06</td>\n",
       "      <td>1.494926e+06</td>\n",
       "      <td>1.494926e+06</td>\n",
       "      <td>1.494926e+06</td>\n",
       "    </tr>\n",
       "    <tr>\n",
       "      <th>mean</th>\n",
       "      <td>1.235727e+00</td>\n",
       "      <td>2.968141e+00</td>\n",
       "      <td>1.540559e+00</td>\n",
       "      <td>1.503215e+01</td>\n",
       "      <td>1.353407e+01</td>\n",
       "      <td>1.347794e+01</td>\n",
       "      <td>3.175485e+00</td>\n",
       "      <td>3.175590e+00</td>\n",
       "    </tr>\n",
       "    <tr>\n",
       "      <th>std</th>\n",
       "      <td>2.431476e+00</td>\n",
       "      <td>3.076621e+00</td>\n",
       "      <td>5.232935e-01</td>\n",
       "      <td>1.155316e+01</td>\n",
       "      <td>6.799624e+00</td>\n",
       "      <td>6.892356e+00</td>\n",
       "      <td>1.966505e+00</td>\n",
       "      <td>1.962202e+00</td>\n",
       "    </tr>\n",
       "    <tr>\n",
       "      <th>min</th>\n",
       "      <td>-5.000000e+01</td>\n",
       "      <td>0.000000e+00</td>\n",
       "      <td>1.000000e+00</td>\n",
       "      <td>-4.750000e+02</td>\n",
       "      <td>0.000000e+00</td>\n",
       "      <td>0.000000e+00</td>\n",
       "      <td>0.000000e+00</td>\n",
       "      <td>0.000000e+00</td>\n",
       "    </tr>\n",
       "    <tr>\n",
       "      <th>25%</th>\n",
       "      <td>0.000000e+00</td>\n",
       "      <td>1.100000e+00</td>\n",
       "      <td>1.000000e+00</td>\n",
       "      <td>8.160000e+00</td>\n",
       "      <td>9.000000e+00</td>\n",
       "      <td>9.000000e+00</td>\n",
       "      <td>1.000000e+00</td>\n",
       "      <td>1.000000e+00</td>\n",
       "    </tr>\n",
       "    <tr>\n",
       "      <th>50%</th>\n",
       "      <td>0.000000e+00</td>\n",
       "      <td>1.980000e+00</td>\n",
       "      <td>2.000000e+00</td>\n",
       "      <td>1.176000e+01</td>\n",
       "      <td>1.500000e+01</td>\n",
       "      <td>1.500000e+01</td>\n",
       "      <td>3.000000e+00</td>\n",
       "      <td>3.000000e+00</td>\n",
       "    </tr>\n",
       "    <tr>\n",
       "      <th>75%</th>\n",
       "      <td>2.000000e+00</td>\n",
       "      <td>3.740000e+00</td>\n",
       "      <td>2.000000e+00</td>\n",
       "      <td>1.830000e+01</td>\n",
       "      <td>1.900000e+01</td>\n",
       "      <td>1.900000e+01</td>\n",
       "      <td>5.000000e+00</td>\n",
       "      <td>5.000000e+00</td>\n",
       "    </tr>\n",
       "    <tr>\n",
       "      <th>max</th>\n",
       "      <td>3.000000e+02</td>\n",
       "      <td>6.031000e+02</td>\n",
       "      <td>5.000000e+00</td>\n",
       "      <td>5.813000e+02</td>\n",
       "      <td>2.300000e+01</td>\n",
       "      <td>2.300000e+01</td>\n",
       "      <td>6.000000e+00</td>\n",
       "      <td>6.000000e+00</td>\n",
       "    </tr>\n",
       "  </tbody>\n",
       "</table>\n",
       "</div>"
      ],
      "text/plain": [
       "         Tip_amount  Trip_distance  Payment_type  Total_amount  \\\n",
       "count  1.494926e+06   1.494926e+06  1.494926e+06  1.494926e+06   \n",
       "mean   1.235727e+00   2.968141e+00  1.540559e+00  1.503215e+01   \n",
       "std    2.431476e+00   3.076621e+00  5.232935e-01  1.155316e+01   \n",
       "min   -5.000000e+01   0.000000e+00  1.000000e+00 -4.750000e+02   \n",
       "25%    0.000000e+00   1.100000e+00  1.000000e+00  8.160000e+00   \n",
       "50%    0.000000e+00   1.980000e+00  2.000000e+00  1.176000e+01   \n",
       "75%    2.000000e+00   3.740000e+00  2.000000e+00  1.830000e+01   \n",
       "max    3.000000e+02   6.031000e+02  5.000000e+00  5.813000e+02   \n",
       "\n",
       "       Pickup_Hour_Day  Dropoff_Hour  Dropoff_Week   Pickup_Week  \n",
       "count     1.494926e+06  1.494926e+06  1.494926e+06  1.494926e+06  \n",
       "mean      1.353407e+01  1.347794e+01  3.175485e+00  3.175590e+00  \n",
       "std       6.799624e+00  6.892356e+00  1.966505e+00  1.962202e+00  \n",
       "min       0.000000e+00  0.000000e+00  0.000000e+00  0.000000e+00  \n",
       "25%       9.000000e+00  9.000000e+00  1.000000e+00  1.000000e+00  \n",
       "50%       1.500000e+01  1.500000e+01  3.000000e+00  3.000000e+00  \n",
       "75%       1.900000e+01  1.900000e+01  5.000000e+00  5.000000e+00  \n",
       "max       2.300000e+01  2.300000e+01  6.000000e+00  6.000000e+00  "
      ]
     },
     "execution_count": 24,
     "metadata": {},
     "output_type": "execute_result"
    }
   ],
   "source": [
    "df_new.describe()"
   ]
  },
  {
   "cell_type": "markdown",
   "metadata": {},
   "source": [
    "# Payment Type - As per Data Dictionary, we have tip amount only if the payment is done using credit card otherwise it does not get registered. Hence, we will build our predictive model using data points which have payment type as credit card, i.e. 1"
   ]
  },
  {
   "cell_type": "code",
   "execution_count": 25,
   "metadata": {},
   "outputs": [
    {
     "data": {
      "image/png": "[encoded data removed]",
      "text/plain": [
       "<Figure size 432x288 with 1 Axes>"
      ]
     },
     "metadata": {
      "needs_background": "light"
     },
     "output_type": "display_data"
    }
   ],
   "source": [
    "Other_Tips = df.Tip_amount[df.Payment_type.isin([2,3,4,5,6])]\n",
    "Credit_Tips = df.Tip_amount[df.Payment_type == 1]\n",
    "bins = np.linspace(0, 25, 20)\n",
    "plt.hist(Other_Tips , bins, alpha=0.5, label='Other_Tips ')\n",
    "plt.hist(Credit_Tips, bins, alpha=0.5, label='Credit_Tips')\n",
    "plt.title(\"Distribution of Tip amount for cash and other payment types\")\n",
    "plt.xlabel(\"Tip Amount\")\n",
    "plt.ylabel(\"Count\")\n",
    "plt.legend(loc='upper right')\n",
    "plt.show()"
   ]
  },
  {
   "cell_type": "code",
   "execution_count": 26,
   "metadata": {},
   "outputs": [],
   "source": [
    "df_final = df_new[df_new.Payment_type == 1]"
   ]
  },
  {
   "cell_type": "code",
   "execution_count": 27,
   "metadata": {},
   "outputs": [
    {
     "data": {
      "text/plain": [
       "Text(0, 0.5, 'Count')"
      ]
     },
     "execution_count": 27,
     "metadata": {},
     "output_type": "execute_result"
    },
    {
     "data": {
      "image/png": "[encoded data removed]",
      "text/plain": [
       "<Figure size 720x576 with 1 Axes>"
      ]
     },
     "metadata": {
      "needs_background": "light"
     },
     "output_type": "display_data"
    }
   ],
   "source": [
    "#Data Exploration for Cleaning - Trip_distance\n",
    "\n",
    "plt.figure(figsize=(10,8))\n",
    "sns.distplot(df_final.Trip_distance, kde = False)\n",
    "plt.title(\"Histogram of Trip Distance without Outliers\")\n",
    "plt.xlabel(\"Trip Distance (miles)\")\n",
    "plt.ylabel(\"Count\")"
   ]
  },
  {
   "cell_type": "code",
   "execution_count": 28,
   "metadata": {},
   "outputs": [
    {
     "name": "stderr",
     "output_type": "stream",
     "text": [
      "/anaconda3/lib/python3.7/site-packages/pandas/core/generic.py:4405: SettingWithCopyWarning: \n",
      "A value is trying to be set on a copy of a slice from a DataFrame.\n",
      "Try using .loc[row_indexer,col_indexer] = value instead\n",
      "\n",
      "See the caveats in the documentation: http://pandas.pydata.org/pandas-docs/stable/indexing.html#indexing-view-versus-copy\n",
      "  self[name] = value\n"
     ]
    },
    {
     "data": {
      "text/plain": [
       "Text(0, 0.5, 'Count')"
      ]
     },
     "execution_count": 28,
     "metadata": {},
     "output_type": "execute_result"
    },
    {
     "data": {
      "image/png": "[encoded data removed]",
      "text/plain": [
       "<Figure size 720x576 with 1 Axes>"
      ]
     },
     "metadata": {
      "needs_background": "light"
     },
     "output_type": "display_data"
    }
   ],
   "source": [
    "#Data Cleaning - Trip Distance has outliers and I will remove that \n",
    "\n",
    "Trip_distance_median = df_final.Trip_distance.median()\n",
    "Trip_distance_sd = df_final.Trip_distance.std()\n",
    "\n",
    "df_final.Trip_distance = np.where((df_final.Trip_distance-Trip_distance_median) > 3*Trip_distance_sd, Trip_distance_median, df_final.Trip_distance)\n",
    "\n",
    "plt.figure(figsize=(10,8))\n",
    "sns.distplot(df_final.Trip_distance, kde = False)\n",
    "plt.title(\"Histogram of Trip Distance without Outliers\")\n",
    "plt.xlabel(\"Trip Distance (miles)\")\n",
    "plt.ylabel(\"Count\")"
   ]
  },
  {
   "cell_type": "code",
   "execution_count": 29,
   "metadata": {},
   "outputs": [
    {
     "data": {
      "text/plain": [
       "count    701287.000000\n",
       "mean         18.116779\n",
       "std          12.826788\n",
       "min          -5.760000\n",
       "25%           9.950000\n",
       "50%          14.300000\n",
       "75%          22.450000\n",
       "max         497.550000\n",
       "Name: Total_amount, dtype: float64"
      ]
     },
     "execution_count": 29,
     "metadata": {},
     "output_type": "execute_result"
    }
   ],
   "source": [
    "df_final.Total_amount.describe()"
   ]
  },
  {
   "cell_type": "code",
   "execution_count": 30,
   "metadata": {},
   "outputs": [
    {
     "data": {
      "text/plain": [
       "Text(0, 0.5, 'Count')"
      ]
     },
     "execution_count": 30,
     "metadata": {},
     "output_type": "execute_result"
    },
    {
     "data": {
      "image/png": "[encoded data removed]",
      "text/plain": [
       "<Figure size 720x576 with 1 Axes>"
      ]
     },
     "metadata": {
      "needs_background": "light"
     },
     "output_type": "display_data"
    }
   ],
   "source": [
    "plt.figure(figsize=(10,8))\n",
    "sns.distplot(df_final.Total_amount, kde = False)\n",
    "plt.title(\"Histogram of Total amount Before Data Cleaning\")\n",
    "plt.xlabel(\"Total amount\")\n",
    "plt.ylabel(\"Count\")"
   ]
  },
  {
   "cell_type": "code",
   "execution_count": 31,
   "metadata": {},
   "outputs": [],
   "source": [
    "#removing outliers\n",
    "Total_amount_median = df_final.Total_amount.median()\n",
    "Total_amount_sd = df_final.Total_amount.std()\n",
    "\n",
    "df_final.Total_amount = np.where((df_final.Total_amount-Total_amount_median) > 3*Total_amount_sd, Total_amount_median, df_final.Total_amount)"
   ]
  },
  {
   "cell_type": "code",
   "execution_count": 32,
   "metadata": {},
   "outputs": [],
   "source": [
    "#treating invalid data points - replacing negative values in this column with median\n",
    "df_final.Total_amount = np.where(df_final.Total_amount <=0, Total_amount_median, df_final.Total_amount)"
   ]
  },
  {
   "cell_type": "code",
   "execution_count": 33,
   "metadata": {},
   "outputs": [
    {
     "data": {
      "text/plain": [
       "Text(0, 0.5, 'Count')"
      ]
     },
     "execution_count": 33,
     "metadata": {},
     "output_type": "execute_result"
    },
    {
     "data": {
      "image/png": "[encoded data removed]",
      "text/plain": [
       "<Figure size 720x576 with 1 Axes>"
      ]
     },
     "metadata": {
      "needs_background": "light"
     },
     "output_type": "display_data"
    }
   ],
   "source": [
    "plt.figure(figsize=(10,8))\n",
    "sns.distplot(df_final.Total_amount, kde = False)\n",
    "plt.title(\"Histogram of Total amount after cleaning the data\")\n",
    "plt.xlabel(\"Total amount\")\n",
    "plt.ylabel(\"Count\")"
   ]
  },
  {
   "cell_type": "code",
   "execution_count": 34,
   "metadata": {},
   "outputs": [
    {
     "data": {
      "text/plain": [
       "count    701287.000000\n",
       "mean          2.634134\n",
       "std           2.980382\n",
       "min          -0.960000\n",
       "25%           1.160000\n",
       "50%           2.000000\n",
       "75%           3.360000\n",
       "max         300.000000\n",
       "Name: Tip_amount, dtype: float64"
      ]
     },
     "execution_count": 34,
     "metadata": {},
     "output_type": "execute_result"
    }
   ],
   "source": [
    "df_final.Tip_amount.describe()"
   ]
  },
  {
   "cell_type": "code",
   "execution_count": 35,
   "metadata": {},
   "outputs": [
    {
     "data": {
      "text/plain": [
       "Text(0, 0.5, 'Count')"
      ]
     },
     "execution_count": 35,
     "metadata": {},
     "output_type": "execute_result"
    },
    {
     "data": {
      "image/png": "[encoded data removed]",
      "text/plain": [
       "<Figure size 720x576 with 1 Axes>"
      ]
     },
     "metadata": {
      "needs_background": "light"
     },
     "output_type": "display_data"
    }
   ],
   "source": [
    "plt.figure(figsize=(10,8))\n",
    "sns.distplot(df_final.Tip_amount, kde = False)\n",
    "plt.title(\"Histogram of Tip amount Before Data Cleaning\")\n",
    "plt.xlabel(\"Total amount\")\n",
    "plt.ylabel(\"Count\")"
   ]
  },
  {
   "cell_type": "code",
   "execution_count": 36,
   "metadata": {},
   "outputs": [],
   "source": [
    "#removing outliers\n",
    "Tip_amount_median = df_final.Tip_amount.median()\n",
    "Tip_amount_sd = df_final.Tip_amount.std()\n",
    "\n",
    "df_final.Tip_amount = np.where((df_final.Tip_amount-Tip_amount_median) > 3*Tip_amount_sd, Tip_amount_median, df_final.Tip_amount)"
   ]
  },
  {
   "cell_type": "code",
   "execution_count": 37,
   "metadata": {},
   "outputs": [],
   "source": [
    "#treating invalid data points - replacing negative values in this column with median\n",
    "df_final.Tip_amount = np.where(df_final.Tip_amount <=0, Tip_amount_median, df_final.Tip_amount)"
   ]
  },
  {
   "cell_type": "code",
   "execution_count": 38,
   "metadata": {},
   "outputs": [
    {
     "data": {
      "text/plain": [
       "Text(0, 0.5, 'Count')"
      ]
     },
     "execution_count": 38,
     "metadata": {},
     "output_type": "execute_result"
    },
    {
     "data": {
      "image/png": "[encoded data removed]",
      "text/plain": [
       "<Figure size 720x576 with 1 Axes>"
      ]
     },
     "metadata": {
      "needs_background": "light"
     },
     "output_type": "display_data"
    }
   ],
   "source": [
    "plt.figure(figsize=(10,8))\n",
    "sns.distplot(df_final.Tip_amount, kde = False)\n",
    "plt.title(\"Histogram of Tip amount after data cleaning\")\n",
    "plt.xlabel(\"Tip amount\")\n",
    "plt.ylabel(\"Count\")"
   ]
  },
  {
   "cell_type": "code",
   "execution_count": 39,
   "metadata": {},
   "outputs": [
    {
     "data": {
      "text/plain": [
       "count    701287.000000\n",
       "mean          2.728571\n",
       "std           1.713984\n",
       "min           0.010000\n",
       "25%           1.750000\n",
       "50%           2.000000\n",
       "75%           3.260000\n",
       "max          10.910000\n",
       "Name: Tip_amount, dtype: float64"
      ]
     },
     "execution_count": 39,
     "metadata": {},
     "output_type": "execute_result"
    }
   ],
   "source": [
    "df_final.Tip_amount.describe()"
   ]
  },
  {
   "cell_type": "markdown",
   "metadata": {},
   "source": [
    "# Ques 4.a : Build a derived variable for tip as a percentage of the total fare"
   ]
  },
  {
   "cell_type": "code",
   "execution_count": 40,
   "metadata": {},
   "outputs": [
    {
     "name": "stdout",
     "output_type": "stream",
     "text": [
      "Tip percentage summary\n",
      " count    701287.000000\n",
      "mean         17.103499\n",
      "std          42.150955\n",
      "min           0.019681\n",
      "25%          14.492754\n",
      "50%          16.666667\n",
      "75%          19.780220\n",
      "max       20000.000000\n",
      "Name: Tip_Percentage, dtype: float64\n"
     ]
    },
    {
     "name": "stderr",
     "output_type": "stream",
     "text": [
      "/anaconda3/lib/python3.7/site-packages/ipykernel_launcher.py:1: SettingWithCopyWarning: \n",
      "A value is trying to be set on a copy of a slice from a DataFrame.\n",
      "Try using .loc[row_indexer,col_indexer] = value instead\n",
      "\n",
      "See the caveats in the documentation: http://pandas.pydata.org/pandas-docs/stable/indexing.html#indexing-view-versus-copy\n",
      "  \"\"\"Entry point for launching an IPython kernel.\n"
     ]
    }
   ],
   "source": [
    "df_final['Tip_Percentage'] = (100*df_final.Tip_amount)/df_final.Total_amount\n",
    "print (\"Tip percentage summary\\n\",df_final.Tip_Percentage.describe())"
   ]
  },
  {
   "cell_type": "markdown",
   "metadata": {},
   "source": [
    "# The above result shows that the max value for Tip Percentage is 20000. This indicates that some of our data point has Total amount less than Tip Amount. This might be due to the fact that New Yorkers were really generous or some coupons were applied for their payment or some corrupt data. We will drop these rows."
   ]
  },
  {
   "cell_type": "code",
   "execution_count": 41,
   "metadata": {},
   "outputs": [
    {
     "data": {
      "text/html": [
       "<div>\n",
       "<style scoped>\n",
       "    .dataframe tbody tr th:only-of-type {\n",
       "        vertical-align: middle;\n",
       "    }\n",
       "\n",
       "    .dataframe tbody tr th {\n",
       "        vertical-align: top;\n",
       "    }\n",
       "\n",
       "    .dataframe thead th {\n",
       "        text-align: right;\n",
       "    }\n",
       "</style>\n",
       "<table border=\"1\" class=\"dataframe\">\n",
       "  <thead>\n",
       "    <tr style=\"text-align: right;\">\n",
       "      <th></th>\n",
       "      <th>Tip_amount</th>\n",
       "      <th>Trip_distance</th>\n",
       "      <th>Payment_type</th>\n",
       "      <th>Total_amount</th>\n",
       "      <th>Pickup_Hour_Day</th>\n",
       "      <th>Dropoff_Hour</th>\n",
       "      <th>Dropoff_Week</th>\n",
       "      <th>Pickup_Week</th>\n",
       "      <th>Tip_Percentage</th>\n",
       "    </tr>\n",
       "  </thead>\n",
       "  <tbody>\n",
       "    <tr>\n",
       "      <th>198419</th>\n",
       "      <td>2.0</td>\n",
       "      <td>0.00</td>\n",
       "      <td>1</td>\n",
       "      <td>1.06</td>\n",
       "      <td>3</td>\n",
       "      <td>3</td>\n",
       "      <td>5</td>\n",
       "      <td>5</td>\n",
       "      <td>188.679245</td>\n",
       "    </tr>\n",
       "    <tr>\n",
       "      <th>301112</th>\n",
       "      <td>2.0</td>\n",
       "      <td>0.00</td>\n",
       "      <td>1</td>\n",
       "      <td>0.18</td>\n",
       "      <td>0</td>\n",
       "      <td>1</td>\n",
       "      <td>0</td>\n",
       "      <td>0</td>\n",
       "      <td>1111.111111</td>\n",
       "    </tr>\n",
       "    <tr>\n",
       "      <th>502805</th>\n",
       "      <td>2.0</td>\n",
       "      <td>0.00</td>\n",
       "      <td>1</td>\n",
       "      <td>1.11</td>\n",
       "      <td>12</td>\n",
       "      <td>12</td>\n",
       "      <td>4</td>\n",
       "      <td>4</td>\n",
       "      <td>180.180180</td>\n",
       "    </tr>\n",
       "    <tr>\n",
       "      <th>502965</th>\n",
       "      <td>2.0</td>\n",
       "      <td>0.00</td>\n",
       "      <td>1</td>\n",
       "      <td>0.01</td>\n",
       "      <td>12</td>\n",
       "      <td>12</td>\n",
       "      <td>4</td>\n",
       "      <td>4</td>\n",
       "      <td>20000.000000</td>\n",
       "    </tr>\n",
       "    <tr>\n",
       "      <th>596576</th>\n",
       "      <td>2.0</td>\n",
       "      <td>0.00</td>\n",
       "      <td>1</td>\n",
       "      <td>0.12</td>\n",
       "      <td>21</td>\n",
       "      <td>21</td>\n",
       "      <td>5</td>\n",
       "      <td>5</td>\n",
       "      <td>1666.666667</td>\n",
       "    </tr>\n",
       "    <tr>\n",
       "      <th>759833</th>\n",
       "      <td>2.0</td>\n",
       "      <td>0.03</td>\n",
       "      <td>1</td>\n",
       "      <td>0.12</td>\n",
       "      <td>11</td>\n",
       "      <td>11</td>\n",
       "      <td>2</td>\n",
       "      <td>2</td>\n",
       "      <td>1666.666667</td>\n",
       "    </tr>\n",
       "    <tr>\n",
       "      <th>801162</th>\n",
       "      <td>2.0</td>\n",
       "      <td>0.00</td>\n",
       "      <td>1</td>\n",
       "      <td>1.00</td>\n",
       "      <td>9</td>\n",
       "      <td>9</td>\n",
       "      <td>3</td>\n",
       "      <td>3</td>\n",
       "      <td>200.000000</td>\n",
       "    </tr>\n",
       "    <tr>\n",
       "      <th>801212</th>\n",
       "      <td>2.0</td>\n",
       "      <td>0.00</td>\n",
       "      <td>1</td>\n",
       "      <td>1.30</td>\n",
       "      <td>9</td>\n",
       "      <td>9</td>\n",
       "      <td>3</td>\n",
       "      <td>3</td>\n",
       "      <td>153.846154</td>\n",
       "    </tr>\n",
       "    <tr>\n",
       "      <th>801916</th>\n",
       "      <td>2.0</td>\n",
       "      <td>2.63</td>\n",
       "      <td>1</td>\n",
       "      <td>1.14</td>\n",
       "      <td>9</td>\n",
       "      <td>9</td>\n",
       "      <td>3</td>\n",
       "      <td>3</td>\n",
       "      <td>175.438596</td>\n",
       "    </tr>\n",
       "    <tr>\n",
       "      <th>1093354</th>\n",
       "      <td>2.0</td>\n",
       "      <td>0.00</td>\n",
       "      <td>1</td>\n",
       "      <td>1.00</td>\n",
       "      <td>18</td>\n",
       "      <td>18</td>\n",
       "      <td>1</td>\n",
       "      <td>1</td>\n",
       "      <td>200.000000</td>\n",
       "    </tr>\n",
       "    <tr>\n",
       "      <th>1117207</th>\n",
       "      <td>2.0</td>\n",
       "      <td>0.00</td>\n",
       "      <td>1</td>\n",
       "      <td>1.00</td>\n",
       "      <td>10</td>\n",
       "      <td>10</td>\n",
       "      <td>2</td>\n",
       "      <td>2</td>\n",
       "      <td>200.000000</td>\n",
       "    </tr>\n",
       "    <tr>\n",
       "      <th>1127137</th>\n",
       "      <td>2.0</td>\n",
       "      <td>0.00</td>\n",
       "      <td>1</td>\n",
       "      <td>1.00</td>\n",
       "      <td>15</td>\n",
       "      <td>15</td>\n",
       "      <td>2</td>\n",
       "      <td>2</td>\n",
       "      <td>200.000000</td>\n",
       "    </tr>\n",
       "    <tr>\n",
       "      <th>1168711</th>\n",
       "      <td>2.0</td>\n",
       "      <td>0.03</td>\n",
       "      <td>1</td>\n",
       "      <td>0.01</td>\n",
       "      <td>16</td>\n",
       "      <td>16</td>\n",
       "      <td>3</td>\n",
       "      <td>3</td>\n",
       "      <td>20000.000000</td>\n",
       "    </tr>\n",
       "    <tr>\n",
       "      <th>1170154</th>\n",
       "      <td>2.0</td>\n",
       "      <td>0.00</td>\n",
       "      <td>1</td>\n",
       "      <td>0.01</td>\n",
       "      <td>16</td>\n",
       "      <td>16</td>\n",
       "      <td>3</td>\n",
       "      <td>3</td>\n",
       "      <td>20000.000000</td>\n",
       "    </tr>\n",
       "    <tr>\n",
       "      <th>1257744</th>\n",
       "      <td>2.0</td>\n",
       "      <td>0.00</td>\n",
       "      <td>1</td>\n",
       "      <td>0.10</td>\n",
       "      <td>6</td>\n",
       "      <td>6</td>\n",
       "      <td>5</td>\n",
       "      <td>5</td>\n",
       "      <td>2000.000000</td>\n",
       "    </tr>\n",
       "    <tr>\n",
       "      <th>1271488</th>\n",
       "      <td>2.0</td>\n",
       "      <td>0.00</td>\n",
       "      <td>1</td>\n",
       "      <td>0.45</td>\n",
       "      <td>14</td>\n",
       "      <td>14</td>\n",
       "      <td>5</td>\n",
       "      <td>5</td>\n",
       "      <td>444.444444</td>\n",
       "    </tr>\n",
       "  </tbody>\n",
       "</table>\n",
       "</div>"
      ],
      "text/plain": [
       "         Tip_amount  Trip_distance  Payment_type  Total_amount  \\\n",
       "198419          2.0           0.00             1          1.06   \n",
       "301112          2.0           0.00             1          0.18   \n",
       "502805          2.0           0.00             1          1.11   \n",
       "502965          2.0           0.00             1          0.01   \n",
       "596576          2.0           0.00             1          0.12   \n",
       "759833          2.0           0.03             1          0.12   \n",
       "801162          2.0           0.00             1          1.00   \n",
       "801212          2.0           0.00             1          1.30   \n",
       "801916          2.0           2.63             1          1.14   \n",
       "1093354         2.0           0.00             1          1.00   \n",
       "1117207         2.0           0.00             1          1.00   \n",
       "1127137         2.0           0.00             1          1.00   \n",
       "1168711         2.0           0.03             1          0.01   \n",
       "1170154         2.0           0.00             1          0.01   \n",
       "1257744         2.0           0.00             1          0.10   \n",
       "1271488         2.0           0.00             1          0.45   \n",
       "\n",
       "         Pickup_Hour_Day  Dropoff_Hour  Dropoff_Week  Pickup_Week  \\\n",
       "198419                 3             3             5            5   \n",
       "301112                 0             1             0            0   \n",
       "502805                12            12             4            4   \n",
       "502965                12            12             4            4   \n",
       "596576                21            21             5            5   \n",
       "759833                11            11             2            2   \n",
       "801162                 9             9             3            3   \n",
       "801212                 9             9             3            3   \n",
       "801916                 9             9             3            3   \n",
       "1093354               18            18             1            1   \n",
       "1117207               10            10             2            2   \n",
       "1127137               15            15             2            2   \n",
       "1168711               16            16             3            3   \n",
       "1170154               16            16             3            3   \n",
       "1257744                6             6             5            5   \n",
       "1271488               14            14             5            5   \n",
       "\n",
       "         Tip_Percentage  \n",
       "198419       188.679245  \n",
       "301112      1111.111111  \n",
       "502805       180.180180  \n",
       "502965     20000.000000  \n",
       "596576      1666.666667  \n",
       "759833      1666.666667  \n",
       "801162       200.000000  \n",
       "801212       153.846154  \n",
       "801916       175.438596  \n",
       "1093354      200.000000  \n",
       "1117207      200.000000  \n",
       "1127137      200.000000  \n",
       "1168711    20000.000000  \n",
       "1170154    20000.000000  \n",
       "1257744     2000.000000  \n",
       "1271488      444.444444  "
      ]
     },
     "execution_count": 41,
     "metadata": {},
     "output_type": "execute_result"
    }
   ],
   "source": [
    "df_final.loc[df_final.Tip_Percentage > 100, ]"
   ]
  },
  {
   "cell_type": "code",
   "execution_count": 42,
   "metadata": {},
   "outputs": [],
   "source": [
    "df_final1 = df_final[df_final.Total_amount > df_final.Tip_amount]"
   ]
  },
  {
   "cell_type": "markdown",
   "metadata": {},
   "source": [
    "# Now that we have prepared our data, dropped invalid points. We will build a Linear Regression base model with only Total amount as independent variable and Tip Percentage as dependent variable"
   ]
  },
  {
   "cell_type": "code",
   "execution_count": 43,
   "metadata": {},
   "outputs": [
    {
     "data": {
      "text/plain": [
       "[3, 8]"
      ]
     },
     "execution_count": 43,
     "metadata": {},
     "output_type": "execute_result"
    }
   ],
   "source": [
    "#checking columns indexes\n",
    "cols = ['Total_amount', 'Tip_Percentage']\n",
    "[df_final1.columns.get_loc(c) for c in cols if c in df_final1]"
   ]
  },
  {
   "cell_type": "markdown",
   "metadata": {},
   "source": [
    "# Importing Scikit Libraries"
   ]
  },
  {
   "cell_type": "code",
   "execution_count": 44,
   "metadata": {},
   "outputs": [],
   "source": [
    "from sklearn.model_selection import train_test_split\n",
    "from sklearn.preprocessing import LabelEncoder, OneHotEncoder\n",
    "from sklearn.preprocessing import StandardScaler\n",
    "\n",
    "from sklearn.linear_model import LinearRegression\n",
    "from sklearn.metrics import mean_absolute_error\n",
    "from sklearn.metrics import mean_squared_error\n",
    "from sklearn.metrics import r2_score"
   ]
  },
  {
   "cell_type": "code",
   "execution_count": 45,
   "metadata": {},
   "outputs": [],
   "source": [
    "X = df_final1.iloc[:, [3]].values\n",
    "y = df_final1.iloc[:, 8].values\n",
    "\n",
    "X_train, X_test, y_train, y_test = train_test_split(X, y, test_size =0.2, random_state = 0 )"
   ]
  },
  {
   "cell_type": "code",
   "execution_count": 46,
   "metadata": {},
   "outputs": [],
   "source": [
    "sc = StandardScaler()\n",
    "sc.fit(X_train)\n",
    "\n",
    "X_train = sc.transform(X_train)\n",
    "X_test = sc.transform(X_test)"
   ]
  },
  {
   "cell_type": "code",
   "execution_count": 47,
   "metadata": {},
   "outputs": [
    {
     "data": {
      "text/plain": [
       "LinearRegression(copy_X=True, fit_intercept=False, n_jobs=None,\n",
       "         normalize=False)"
      ]
     },
     "execution_count": 47,
     "metadata": {},
     "output_type": "execute_result"
    }
   ],
   "source": [
    "lr = LinearRegression(fit_intercept = False)\n",
    "lr.fit(X_train, y_train)"
   ]
  },
  {
   "cell_type": "code",
   "execution_count": 48,
   "metadata": {},
   "outputs": [],
   "source": [
    "y_pred = lr.predict(X_test)"
   ]
  },
  {
   "cell_type": "markdown",
   "metadata": {},
   "source": [
    "# We are choosing Root Mean Square Error as our performance metric"
   ]
  },
  {
   "cell_type": "code",
   "execution_count": 49,
   "metadata": {},
   "outputs": [
    {
     "data": {
      "text/plain": [
       "18.393590273570375"
      ]
     },
     "execution_count": 49,
     "metadata": {},
     "output_type": "execute_result"
    }
   ],
   "source": [
    "np.sqrt(mean_squared_error(y_test, y_pred))"
   ]
  },
  {
   "cell_type": "code",
   "execution_count": 50,
   "metadata": {},
   "outputs": [
    {
     "data": {
      "text/plain": [
       "count    701224.000000\n",
       "mean         17.000808\n",
       "std           7.235528\n",
       "min           0.019681\n",
       "25%          14.492754\n",
       "50%          16.666667\n",
       "75%          19.780220\n",
       "max          90.909091\n",
       "Name: Tip_Percentage, dtype: float64"
      ]
     },
     "execution_count": 50,
     "metadata": {},
     "output_type": "execute_result"
    }
   ],
   "source": [
    "df_final1.Tip_Percentage.describe()"
   ]
  },
  {
   "cell_type": "markdown",
   "metadata": {},
   "source": [
    "# The Linear Regression model gave a RMSE val of 18.39 and the mean tip percentage is only 17%. This means our linear regression model is not good. This indicates a non linear relationship between our independent variable and dependent variable. Hence, I will build a Random Forest model"
   ]
  },
  {
   "cell_type": "code",
   "execution_count": 51,
   "metadata": {},
   "outputs": [],
   "source": [
    "from sklearn.ensemble import RandomForestRegressor"
   ]
  },
  {
   "cell_type": "code",
   "execution_count": 52,
   "metadata": {},
   "outputs": [
    {
     "data": {
      "text/plain": [
       "RandomForestRegressor(bootstrap=True, criterion='mse', max_depth=None,\n",
       "           max_features='auto', max_leaf_nodes=None,\n",
       "           min_impurity_decrease=0.0, min_impurity_split=None,\n",
       "           min_samples_leaf=1, min_samples_split=2,\n",
       "           min_weight_fraction_leaf=0.0, n_estimators=100, n_jobs=None,\n",
       "           oob_score=False, random_state=None, verbose=0, warm_start=False)"
      ]
     },
     "execution_count": 52,
     "metadata": {},
     "output_type": "execute_result"
    }
   ],
   "source": [
    "rf = RandomForestRegressor(n_estimators=100)\n",
    "rf.fit(X_train, y_train)"
   ]
  },
  {
   "cell_type": "code",
   "execution_count": 53,
   "metadata": {},
   "outputs": [],
   "source": [
    "y_pred = rf.predict(X_test)"
   ]
  },
  {
   "cell_type": "code",
   "execution_count": 54,
   "metadata": {},
   "outputs": [
    {
     "data": {
      "text/plain": [
       "count    140245.000000\n",
       "mean         16.991678\n",
       "std           4.719955\n",
       "min           0.044615\n",
       "25%          15.241985\n",
       "50%          16.666667\n",
       "75%          18.494769\n",
       "max          66.363636\n",
       "dtype: float64"
      ]
     },
     "execution_count": 54,
     "metadata": {},
     "output_type": "execute_result"
    }
   ],
   "source": [
    "pd.Series(y_pred).describe()"
   ]
  },
  {
   "cell_type": "code",
   "execution_count": 55,
   "metadata": {},
   "outputs": [
    {
     "data": {
      "text/plain": [
       "5.546988030521573"
      ]
     },
     "execution_count": 55,
     "metadata": {},
     "output_type": "execute_result"
    }
   ],
   "source": [
    "np.sqrt(mean_squared_error(y_test, y_pred))"
   ]
  },
  {
   "cell_type": "markdown",
   "metadata": {},
   "source": [
    "# Now, that we have a better model. I am going to see if adding more variables improve the model"
   ]
  },
  {
   "cell_type": "code",
   "execution_count": 56,
   "metadata": {},
   "outputs": [],
   "source": [
    "#I will use one hot encoding for our categorical values dropoff hour, dropoff week, pickup week and pickup hour¶\n",
    "\n",
    "X = df_final1.iloc[:, [1,3,4,5,6,7]].values\n",
    "y = df_final1.iloc[:, 8].values"
   ]
  },
  {
   "cell_type": "code",
   "execution_count": 57,
   "metadata": {},
   "outputs": [
    {
     "name": "stderr",
     "output_type": "stream",
     "text": [
      "/anaconda3/lib/python3.7/site-packages/sklearn/preprocessing/_encoders.py:368: FutureWarning: The handling of integer data will change in version 0.22. Currently, the categories are determined based on the range [0, max(values)], while in the future they will be determined based on the unique values.\n",
      "If you want the future behaviour and silence this warning, you can specify \"categories='auto'\".\n",
      "In case you used a LabelEncoder before this OneHotEncoder to convert the categories to integers, then you can now use the OneHotEncoder directly.\n",
      "  warnings.warn(msg, FutureWarning)\n",
      "/anaconda3/lib/python3.7/site-packages/sklearn/preprocessing/_encoders.py:390: DeprecationWarning: The 'categorical_features' keyword is deprecated in version 0.20 and will be removed in 0.22. You can use the ColumnTransformer instead.\n",
      "  \"use the ColumnTransformer instead.\", DeprecationWarning)\n",
      "/anaconda3/lib/python3.7/site-packages/sklearn/utils/deprecation.py:77: DeprecationWarning: Function feature_indices_ is deprecated; The ``feature_indices_`` attribute was deprecated in version 0.20 and will be removed 0.22.\n",
      "  warnings.warn(msg, category=DeprecationWarning)\n"
     ]
    }
   ],
   "source": [
    "from sklearn.preprocessing import LabelEncoder, OneHotEncoder\n",
    "label_encoder = LabelEncoder()\n",
    "label_encoder_3 = LabelEncoder()\n",
    "label_encoder_4 = LabelEncoder()\n",
    "label_encoder_5 = LabelEncoder()\n",
    "\n",
    "label_encoder.fit(X[:,2]) #never enter multiple column here, it doesn't work\n",
    "X[:,2] = label_encoder.transform(X[:,2])\n",
    "\n",
    "label_encoder_3.fit(X[:,3]) #never enter multiple column here, it doesn't work\n",
    "X[:,3] = label_encoder_3.transform(X[:,3])\n",
    "\n",
    "label_encoder_4.fit(X[:,4]) #never enter multiple column here, it doesn't work\n",
    "X[:,4] = label_encoder_4.transform(X[:,4])\n",
    "\n",
    "label_encoder_5.fit(X[:,5]) #never enter multiple column here, it doesn't work\n",
    "X[:,5] = label_encoder_5.transform(X[:,5])\n",
    "\n",
    "one_hot_encoder = OneHotEncoder(categorical_features=[2,3,4,5], sparse=False)\n",
    "one_hot_encoder.fit(X)\n",
    "X= one_hot_encoder.transform(X)\n",
    "\n",
    "X = np.delete(X, one_hot_encoder.feature_indices_[ : -1], 1)"
   ]
  },
  {
   "cell_type": "code",
   "execution_count": 58,
   "metadata": {},
   "outputs": [
    {
     "data": {
      "text/plain": [
       "RandomForestRegressor(bootstrap=True, criterion='mse', max_depth=None,\n",
       "           max_features='auto', max_leaf_nodes=None,\n",
       "           min_impurity_decrease=0.0, min_impurity_split=None,\n",
       "           min_samples_leaf=1, min_samples_split=2,\n",
       "           min_weight_fraction_leaf=0.0, n_estimators=100, n_jobs=None,\n",
       "           oob_score=False, random_state=None, verbose=0, warm_start=False)"
      ]
     },
     "execution_count": 58,
     "metadata": {},
     "output_type": "execute_result"
    }
   ],
   "source": [
    "X_train, X_test, y_train, y_test = train_test_split(X, y, test_size =0.2, random_state = 0 ) \n",
    "rf = RandomForestRegressor(n_estimators=100)\n",
    "rf.fit(X_train, y_train)"
   ]
  },
  {
   "cell_type": "code",
   "execution_count": 59,
   "metadata": {},
   "outputs": [
    {
     "data": {
      "text/plain": [
       "count    140245.000000\n",
       "mean         16.982945\n",
       "std           5.690690\n",
       "min           0.069881\n",
       "25%          14.673607\n",
       "50%          16.666667\n",
       "75%          18.574297\n",
       "max          69.896853\n",
       "dtype: float64"
      ]
     },
     "execution_count": 59,
     "metadata": {},
     "output_type": "execute_result"
    }
   ],
   "source": [
    "y_pred = rf.predict(X_test)\n",
    "pd.Series(y_pred).describe()"
   ]
  },
  {
   "cell_type": "code",
   "execution_count": 61,
   "metadata": {},
   "outputs": [
    {
     "data": {
      "text/plain": [
       "5.2176639498349235"
      ]
     },
     "execution_count": 61,
     "metadata": {},
     "output_type": "execute_result"
    }
   ],
   "source": [
    "np.sqrt(mean_squared_error(y_test, y_pred))"
   ]
  },
  {
   "cell_type": "markdown",
   "metadata": {},
   "source": [
    "# Adding new variable did not improve our RMSE value by much. This means the additional features are not adding any value to the model. Hence, the simple rf model can be deemed the best model. "
   ]
  },
  {
   "cell_type": "code",
   "execution_count": null,
   "metadata": {},
   "outputs": [],
   "source": []
  }
 ],
 "metadata": {
  "kernelspec": {
   "display_name": "Python 3",
   "language": "python",
   "name": "python3"
  },
  "language_info": {
   "codemirror_mode": {
    "name": "ipython",
    "version": 3
   },
   "file_extension": ".py",
   "mimetype": "text/x-python",
   "name": "python",
   "nbconvert_exporter": "python",
   "pygments_lexer": "ipython3",
   "version": "3.7.1"
  }
 },
 "nbformat": 4,
 "nbformat_minor": 2
}
